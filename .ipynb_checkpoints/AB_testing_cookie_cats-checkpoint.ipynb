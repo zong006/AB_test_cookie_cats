{
 "cells": [
  {
   "cell_type": "code",
   "execution_count": 1,
   "id": "f6957230",
   "metadata": {},
   "outputs": [],
   "source": [
    "import pandas as pd\n",
    "import numpy as np\n",
    "import matplotlib.pyplot as plt\n",
    "import seaborn as sns\n"
   ]
  },
  {
   "cell_type": "markdown",
   "id": "70bfbaa1",
   "metadata": {},
   "source": [
    "#### Objective: Conduct A/B testing to determine if putting a gate at level 40 (test) instead of 30 (control) leads to significant differences between\n",
    "- the number of rounds played by a player during the first 14 days after installation\n",
    "- retention of the player 1 day after installing\n",
    "- retention of the player 7 days after installing"
   ]
  },
  {
   "cell_type": "code",
   "execution_count": 2,
   "id": "2ee3e7ea",
   "metadata": {},
   "outputs": [
    {
     "name": "stdout",
     "output_type": "stream",
     "text": [
      "<class 'pandas.core.frame.DataFrame'>\n",
      "RangeIndex: 90189 entries, 0 to 90188\n",
      "Data columns (total 5 columns):\n",
      " #   Column          Non-Null Count  Dtype \n",
      "---  ------          --------------  ----- \n",
      " 0   userid          90189 non-null  int64 \n",
      " 1   version         90189 non-null  object\n",
      " 2   sum_gamerounds  90189 non-null  int64 \n",
      " 3   retention_1     90189 non-null  bool  \n",
      " 4   retention_7     90189 non-null  bool  \n",
      "dtypes: bool(2), int64(2), object(1)\n",
      "memory usage: 2.2+ MB\n"
     ]
    }
   ],
   "source": [
    "df = pd.read_csv(\"data/cookie_cats.csv\")\n",
    "df.info()"
   ]
  },
  {
   "cell_type": "markdown",
   "id": "688dc5c2",
   "metadata": {},
   "source": [
    "#### Details of the columns are as follows:\n",
    "\n",
    "| Column          | Description                                                                                          |\n",
    "|-----------------|------------------------------------------------------------------------------------------------------|\n",
    "| userid          | A unique number that identifies each player.                                                          |\n",
    "| version         | Whether the player was put in the control group (gate_30 - a gate at level 30) or the group with the moved gate (gate_40 - a gate at level 40). |\n",
    "| sum_gamerounds  | The number of game rounds played by the player during the first 14 days after installing.                |\n",
    "| retention_1     | Did the player come back and play 1 day after installing?                                             |\n",
    "| retention_7     | Did the player come back and play 7 days after installing?                                             |\n",
    "\n",
    "\n",
    "\n"
   ]
  },
  {
   "cell_type": "code",
   "execution_count": 3,
   "id": "8bb71ac4",
   "metadata": {},
   "outputs": [
    {
     "data": {
      "text/html": [
       "<div>\n",
       "<style scoped>\n",
       "    .dataframe tbody tr th:only-of-type {\n",
       "        vertical-align: middle;\n",
       "    }\n",
       "\n",
       "    .dataframe tbody tr th {\n",
       "        vertical-align: top;\n",
       "    }\n",
       "\n",
       "    .dataframe thead th {\n",
       "        text-align: right;\n",
       "    }\n",
       "</style>\n",
       "<table border=\"1\" class=\"dataframe\">\n",
       "  <thead>\n",
       "    <tr style=\"text-align: right;\">\n",
       "      <th></th>\n",
       "      <th>userid</th>\n",
       "      <th>version</th>\n",
       "      <th>sum_gamerounds</th>\n",
       "      <th>retention_1</th>\n",
       "      <th>retention_7</th>\n",
       "    </tr>\n",
       "  </thead>\n",
       "  <tbody>\n",
       "    <tr>\n",
       "      <th>0</th>\n",
       "      <td>116</td>\n",
       "      <td>gate_30</td>\n",
       "      <td>3</td>\n",
       "      <td>False</td>\n",
       "      <td>False</td>\n",
       "    </tr>\n",
       "    <tr>\n",
       "      <th>1</th>\n",
       "      <td>337</td>\n",
       "      <td>gate_30</td>\n",
       "      <td>38</td>\n",
       "      <td>True</td>\n",
       "      <td>False</td>\n",
       "    </tr>\n",
       "    <tr>\n",
       "      <th>2</th>\n",
       "      <td>377</td>\n",
       "      <td>gate_40</td>\n",
       "      <td>165</td>\n",
       "      <td>True</td>\n",
       "      <td>False</td>\n",
       "    </tr>\n",
       "    <tr>\n",
       "      <th>3</th>\n",
       "      <td>483</td>\n",
       "      <td>gate_40</td>\n",
       "      <td>1</td>\n",
       "      <td>False</td>\n",
       "      <td>False</td>\n",
       "    </tr>\n",
       "    <tr>\n",
       "      <th>4</th>\n",
       "      <td>488</td>\n",
       "      <td>gate_40</td>\n",
       "      <td>179</td>\n",
       "      <td>True</td>\n",
       "      <td>True</td>\n",
       "    </tr>\n",
       "  </tbody>\n",
       "</table>\n",
       "</div>"
      ],
      "text/plain": [
       "   userid  version  sum_gamerounds  retention_1  retention_7\n",
       "0     116  gate_30               3        False        False\n",
       "1     337  gate_30              38         True        False\n",
       "2     377  gate_40             165         True        False\n",
       "3     483  gate_40               1        False        False\n",
       "4     488  gate_40             179         True         True"
      ]
     },
     "execution_count": 3,
     "metadata": {},
     "output_type": "execute_result"
    }
   ],
   "source": [
    "df.head()"
   ]
  },
  {
   "cell_type": "markdown",
   "id": "8c526f7f",
   "metadata": {},
   "source": [
    "### Data Exploration"
   ]
  },
  {
   "cell_type": "code",
   "execution_count": 4,
   "id": "c717491f",
   "metadata": {},
   "outputs": [
    {
     "name": "stdout",
     "output_type": "stream",
     "text": [
      "Summary statistics of sum_gamerounds by version: \n"
     ]
    },
    {
     "data": {
      "text/html": [
       "<div>\n",
       "<style scoped>\n",
       "    .dataframe tbody tr th:only-of-type {\n",
       "        vertical-align: middle;\n",
       "    }\n",
       "\n",
       "    .dataframe tbody tr th {\n",
       "        vertical-align: top;\n",
       "    }\n",
       "\n",
       "    .dataframe thead th {\n",
       "        text-align: right;\n",
       "    }\n",
       "</style>\n",
       "<table border=\"1\" class=\"dataframe\">\n",
       "  <thead>\n",
       "    <tr style=\"text-align: right;\">\n",
       "      <th></th>\n",
       "      <th>count</th>\n",
       "      <th>mean</th>\n",
       "      <th>std</th>\n",
       "      <th>min</th>\n",
       "      <th>25%</th>\n",
       "      <th>50%</th>\n",
       "      <th>75%</th>\n",
       "      <th>max</th>\n",
       "    </tr>\n",
       "    <tr>\n",
       "      <th>version</th>\n",
       "      <th></th>\n",
       "      <th></th>\n",
       "      <th></th>\n",
       "      <th></th>\n",
       "      <th></th>\n",
       "      <th></th>\n",
       "      <th></th>\n",
       "      <th></th>\n",
       "    </tr>\n",
       "  </thead>\n",
       "  <tbody>\n",
       "    <tr>\n",
       "      <th>gate_30</th>\n",
       "      <td>44700.0</td>\n",
       "      <td>52.456264</td>\n",
       "      <td>256.716423</td>\n",
       "      <td>0.0</td>\n",
       "      <td>5.0</td>\n",
       "      <td>17.0</td>\n",
       "      <td>50.0</td>\n",
       "      <td>49854.0</td>\n",
       "    </tr>\n",
       "    <tr>\n",
       "      <th>gate_40</th>\n",
       "      <td>45489.0</td>\n",
       "      <td>51.298776</td>\n",
       "      <td>103.294416</td>\n",
       "      <td>0.0</td>\n",
       "      <td>5.0</td>\n",
       "      <td>16.0</td>\n",
       "      <td>52.0</td>\n",
       "      <td>2640.0</td>\n",
       "    </tr>\n",
       "  </tbody>\n",
       "</table>\n",
       "</div>"
      ],
      "text/plain": [
       "           count       mean         std  min  25%   50%   75%      max\n",
       "version                                                               \n",
       "gate_30  44700.0  52.456264  256.716423  0.0  5.0  17.0  50.0  49854.0\n",
       "gate_40  45489.0  51.298776  103.294416  0.0  5.0  16.0  52.0   2640.0"
      ]
     },
     "execution_count": 4,
     "metadata": {},
     "output_type": "execute_result"
    }
   ],
   "source": [
    "print(\"Summary statistics of sum_gamerounds by version: \")\n",
    "df.groupby(\"version\").sum_gamerounds.describe()"
   ]
  },
  {
   "cell_type": "markdown",
   "id": "6eaffb7f",
   "metadata": {},
   "source": [
    "Both groups have similar mean, median and IQR (interquartile range). The standard deviation and max value differs by a lot, however."
   ]
  },
  {
   "cell_type": "code",
   "execution_count": 5,
   "id": "0687fb9c",
   "metadata": {},
   "outputs": [
    {
     "data": {
      "image/png": "[encoded data removed]",
      "text/plain": [
       "<Figure size 640x480 with 1 Axes>"
      ]
     },
     "metadata": {},
     "output_type": "display_data"
    }
   ],
   "source": [
    "sns.boxplot(x='version', y='sum_gamerounds', data=df)\n",
    "plt.xlabel('Category')\n",
    "plt.ylabel('sum_gamerounds')\n",
    "plt.title('Boxplots of sum_gamerounds by version')\n",
    "plt.show()"
   ]
  },
  {
   "cell_type": "markdown",
   "id": "fcfdc9d2",
   "metadata": {},
   "source": [
    "There is an outlier in the \"gate_30\" group. Remove it and examine summary statistics again."
   ]
  },
  {
   "cell_type": "code",
   "execution_count": 6,
   "id": "982fd5e1",
   "metadata": {},
   "outputs": [
    {
     "data": {
      "text/html": [
       "<div>\n",
       "<style scoped>\n",
       "    .dataframe tbody tr th:only-of-type {\n",
       "        vertical-align: middle;\n",
       "    }\n",
       "\n",
       "    .dataframe tbody tr th {\n",
       "        vertical-align: top;\n",
       "    }\n",
       "\n",
       "    .dataframe thead th {\n",
       "        text-align: right;\n",
       "    }\n",
       "</style>\n",
       "<table border=\"1\" class=\"dataframe\">\n",
       "  <thead>\n",
       "    <tr style=\"text-align: right;\">\n",
       "      <th></th>\n",
       "      <th>userid</th>\n",
       "      <th>version</th>\n",
       "      <th>sum_gamerounds</th>\n",
       "      <th>retention_1</th>\n",
       "      <th>retention_7</th>\n",
       "    </tr>\n",
       "  </thead>\n",
       "  <tbody>\n",
       "    <tr>\n",
       "      <th>57702</th>\n",
       "      <td>6390605</td>\n",
       "      <td>gate_30</td>\n",
       "      <td>49854</td>\n",
       "      <td>False</td>\n",
       "      <td>True</td>\n",
       "    </tr>\n",
       "    <tr>\n",
       "      <th>7912</th>\n",
       "      <td>871500</td>\n",
       "      <td>gate_30</td>\n",
       "      <td>2961</td>\n",
       "      <td>True</td>\n",
       "      <td>True</td>\n",
       "    </tr>\n",
       "    <tr>\n",
       "      <th>29417</th>\n",
       "      <td>3271615</td>\n",
       "      <td>gate_40</td>\n",
       "      <td>2640</td>\n",
       "      <td>True</td>\n",
       "      <td>False</td>\n",
       "    </tr>\n",
       "    <tr>\n",
       "      <th>43671</th>\n",
       "      <td>4832608</td>\n",
       "      <td>gate_30</td>\n",
       "      <td>2438</td>\n",
       "      <td>True</td>\n",
       "      <td>True</td>\n",
       "    </tr>\n",
       "    <tr>\n",
       "      <th>48188</th>\n",
       "      <td>5346171</td>\n",
       "      <td>gate_40</td>\n",
       "      <td>2294</td>\n",
       "      <td>True</td>\n",
       "      <td>True</td>\n",
       "    </tr>\n",
       "  </tbody>\n",
       "</table>\n",
       "</div>"
      ],
      "text/plain": [
       "        userid  version  sum_gamerounds  retention_1  retention_7\n",
       "57702  6390605  gate_30           49854        False         True\n",
       "7912    871500  gate_30            2961         True         True\n",
       "29417  3271615  gate_40            2640         True        False\n",
       "43671  4832608  gate_30            2438         True         True\n",
       "48188  5346171  gate_40            2294         True         True"
      ]
     },
     "execution_count": 6,
     "metadata": {},
     "output_type": "execute_result"
    }
   ],
   "source": [
    "threshold = df[\"sum_gamerounds\"].quantile(0.99)  \n",
    "    \n",
    "filtered_rows = df[df[\"sum_gamerounds\"] >= threshold]\n",
    "filtered_rows.sort_values(by='sum_gamerounds', ascending=False).head()\n"
   ]
  },
  {
   "cell_type": "markdown",
   "id": "49a49a3a",
   "metadata": {},
   "source": [
    "Only one value (the maximum) in gate_30 needs to be removed."
   ]
  },
  {
   "cell_type": "code",
   "execution_count": 7,
   "id": "43ec3592",
   "metadata": {},
   "outputs": [],
   "source": [
    "max_idx = df[\"sum_gamerounds\"].idxmax()  \n",
    "df = df.drop(max_idx)"
   ]
  },
  {
   "cell_type": "code",
   "execution_count": 8,
   "id": "dbb84da0",
   "metadata": {},
   "outputs": [
    {
     "name": "stdout",
     "output_type": "stream",
     "text": [
      "Summary statistics of sum_gamerounds by version: \n"
     ]
    },
    {
     "data": {
      "text/html": [
       "<div>\n",
       "<style scoped>\n",
       "    .dataframe tbody tr th:only-of-type {\n",
       "        vertical-align: middle;\n",
       "    }\n",
       "\n",
       "    .dataframe tbody tr th {\n",
       "        vertical-align: top;\n",
       "    }\n",
       "\n",
       "    .dataframe thead th {\n",
       "        text-align: right;\n",
       "    }\n",
       "</style>\n",
       "<table border=\"1\" class=\"dataframe\">\n",
       "  <thead>\n",
       "    <tr style=\"text-align: right;\">\n",
       "      <th></th>\n",
       "      <th>count</th>\n",
       "      <th>mean</th>\n",
       "      <th>std</th>\n",
       "      <th>min</th>\n",
       "      <th>25%</th>\n",
       "      <th>50%</th>\n",
       "      <th>75%</th>\n",
       "      <th>max</th>\n",
       "    </tr>\n",
       "    <tr>\n",
       "      <th>version</th>\n",
       "      <th></th>\n",
       "      <th></th>\n",
       "      <th></th>\n",
       "      <th></th>\n",
       "      <th></th>\n",
       "      <th></th>\n",
       "      <th></th>\n",
       "      <th></th>\n",
       "    </tr>\n",
       "  </thead>\n",
       "  <tbody>\n",
       "    <tr>\n",
       "      <th>gate_30</th>\n",
       "      <td>44699.0</td>\n",
       "      <td>51.342111</td>\n",
       "      <td>102.057598</td>\n",
       "      <td>0.0</td>\n",
       "      <td>5.0</td>\n",
       "      <td>17.0</td>\n",
       "      <td>50.0</td>\n",
       "      <td>2961.0</td>\n",
       "    </tr>\n",
       "    <tr>\n",
       "      <th>gate_40</th>\n",
       "      <td>45489.0</td>\n",
       "      <td>51.298776</td>\n",
       "      <td>103.294416</td>\n",
       "      <td>0.0</td>\n",
       "      <td>5.0</td>\n",
       "      <td>16.0</td>\n",
       "      <td>52.0</td>\n",
       "      <td>2640.0</td>\n",
       "    </tr>\n",
       "  </tbody>\n",
       "</table>\n",
       "</div>"
      ],
      "text/plain": [
       "           count       mean         std  min  25%   50%   75%     max\n",
       "version                                                              \n",
       "gate_30  44699.0  51.342111  102.057598  0.0  5.0  17.0  50.0  2961.0\n",
       "gate_40  45489.0  51.298776  103.294416  0.0  5.0  16.0  52.0  2640.0"
      ]
     },
     "execution_count": 8,
     "metadata": {},
     "output_type": "execute_result"
    }
   ],
   "source": [
    "print(\"Summary statistics of sum_gamerounds by version: \")\n",
    "df.groupby(\"version\").sum_gamerounds.describe()"
   ]
  },
  {
   "cell_type": "markdown",
   "id": "c5b5bf7c",
   "metadata": {},
   "source": [
    "#### After removing outliers, both groups have similar summary statistics for sum_gamerounds. \n",
    "\n"
   ]
  },
  {
   "cell_type": "code",
   "execution_count": 9,
   "id": "c216f8d3",
   "metadata": {},
   "outputs": [],
   "source": [
    "df[\"group\"] = np.where(df.version == \"gate_30\", \"A\", \"B\")\n"
   ]
  },
  {
   "cell_type": "markdown",
   "id": "df466fbb",
   "metadata": {},
   "source": [
    "### A/B testing"
   ]
  },
  {
   "cell_type": "markdown",
   "id": "a6b6621e",
   "metadata": {},
   "source": [
    "#### The variable \"sum_gamerounds\" is a continuous variable. We use the following to determine the test used, which then gives us the p-value to compare against.\n",
    "\n",
    "Check if the distributions are normal using Shapiro test. \n",
    "#### If both groups A and B have  normal distributions:\n",
    "- check if variances are homogeneous using Levene test. \n",
    "    - If both have homogeneous variances: use t-test\n",
    "    - else, not homogeneous:  use Welch test\n",
    "    \n",
    "#### Else:\n",
    "- use Mann Whitney U test\n",
    "  \n"
   ]
  },
  {
   "cell_type": "code",
   "execution_count": 34,
   "id": "08507c56",
   "metadata": {},
   "outputs": [],
   "source": [
    "def AB_Test_continuos(df, group, target):\n",
    "    \n",
    "    from scipy.stats import shapiro\n",
    "    import scipy.stats as stats\n",
    "    \n",
    "    groupA = df[df[group] == \"A\"][target]\n",
    "    groupB = df[df[group] == \"B\"][target]\n",
    "    \n",
    "\n",
    "    sharpiro_A_rej = shapiro(groupA)[1] < 0.05\n",
    "    sharpiro_B_rej = shapiro(groupB)[1] < 0.05\n",
    "\n",
    "    test_type = \"\"\n",
    "    \n",
    "    if (sharpiro_A_rej == False) & (sharpiro_B_rej == False): \n",
    "        # H0: Normal Distribution\n",
    "        \n",
    "        leveneTest_rej = stats.levene(groupA, groupB)[1] < 0.05\n",
    "        # H0: No Homogeneity of variances\n",
    "\n",
    "        if leveneTest_rej == False:\n",
    "            # Homogeneneous variances\n",
    "            p_val = stats.ttest_ind(groupA, groupB, equal_var=True)[1]\n",
    "            test_type = \"t-Test\"\n",
    "            \n",
    "        else:\n",
    "            # Non-homogeneous variance\n",
    "            p_val = stats.ttest_ind(groupA, groupB, equal_var=False)[1]\n",
    "            test_type = \"Welch Test\"\n",
    "    else:\n",
    "        # H1: Not Normal Distribution\n",
    "        p_val = stats.mannwhitneyu(groupA, groupB)[1] \n",
    "        test_type = \"Mann Whitney U Test\"\n",
    "        \n",
    "    sum_table = pd.DataFrame({\n",
    "        \"Test used\" : test_type, \n",
    "        \"p-value\":[p_val],\n",
    "        \"A/B Test Conclusion\" : \" \"\n",
    "    })\n",
    "    \n",
    "    \n",
    "    print(\"A/B Testing Hypothesis\")\n",
    "    print(\"H0: A == B \")\n",
    "    print(\"H1: A != B\", \"\\n\")\n",
    "    \n",
    "            \n",
    "    if sum_table[\"p-value\"].loc[0] < 0.05:\n",
    "        sum_table.loc[0, \"A/B Test Conclusion\"] = \"Reject H0.\"\n",
    "        print(\"The observed difference between A and B are statistically significant.\")    \n",
    "    else:\n",
    "        sum_table.loc[0, \"A/B Test Conclusion\"] = \"Do not reject H0.\"\n",
    "        print(\"The observed difference between A and B are not statistically significant.\")\n",
    "        \n",
    "    return sum_table"
   ]
  },
  {
   "cell_type": "code",
   "execution_count": 35,
   "id": "4a4330c8",
   "metadata": {},
   "outputs": [
    {
     "name": "stdout",
     "output_type": "stream",
     "text": [
      "A/B Testing Hypothesis\n",
      "H0: A == B \n",
      "H1: A != B \n",
      "\n",
      "The observed difference between A and B are not statistically significant.\n"
     ]
    },
    {
     "name": "stderr",
     "output_type": "stream",
     "text": [
      "/Users/ongzhicong/opt/anaconda3/lib/python3.9/site-packages/scipy/stats/_morestats.py:1882: UserWarning: p-value may not be accurate for N > 5000.\n",
      "  warnings.warn(\"p-value may not be accurate for N > 5000.\")\n"
     ]
    },
    {
     "data": {
      "text/html": [
       "<div>\n",
       "<style scoped>\n",
       "    .dataframe tbody tr th:only-of-type {\n",
       "        vertical-align: middle;\n",
       "    }\n",
       "\n",
       "    .dataframe tbody tr th {\n",
       "        vertical-align: top;\n",
       "    }\n",
       "\n",
       "    .dataframe thead th {\n",
       "        text-align: right;\n",
       "    }\n",
       "</style>\n",
       "<table border=\"1\" class=\"dataframe\">\n",
       "  <thead>\n",
       "    <tr style=\"text-align: right;\">\n",
       "      <th></th>\n",
       "      <th>Test used</th>\n",
       "      <th>p-value</th>\n",
       "      <th>A/B Test Conclusion</th>\n",
       "    </tr>\n",
       "  </thead>\n",
       "  <tbody>\n",
       "    <tr>\n",
       "      <th>0</th>\n",
       "      <td>Mann Whitney U Test</td>\n",
       "      <td>0.050892</td>\n",
       "      <td>Do not reject H0.</td>\n",
       "    </tr>\n",
       "  </tbody>\n",
       "</table>\n",
       "</div>"
      ],
      "text/plain": [
       "             Test used   p-value A/B Test Conclusion\n",
       "0  Mann Whitney U Test  0.050892   Do not reject H0."
      ]
     },
     "execution_count": 35,
     "metadata": {},
     "output_type": "execute_result"
    }
   ],
   "source": [
    "AB_Test_continuos(df, group = \"group\", target = \"sum_gamerounds\")"
   ]
  },
  {
   "cell_type": "markdown",
   "id": "bcdfd3cd",
   "metadata": {},
   "source": [
    "#### We can perform an A/B test on retention rates next. Since these are now categorical variables, different tests from the above have to be used. Here, a chi-squared test or Fisher's exact test will be considered, depending on the expected cell frequencies of the contingency table.\n",
    "\n",
    "#### If expected cell frequencies of all cells >5:\n",
    "- use chi-squared test\n",
    "#### Else:\n",
    "- use Fisher's exact test"
   ]
  },
  {
   "cell_type": "code",
   "execution_count": 31,
   "id": "8685aafb",
   "metadata": {},
   "outputs": [],
   "source": [
    "def AB_test_categorical(df, group, target, threshold=5, alpha=0.05):\n",
    "    \n",
    "    from scipy.stats import chi2_contingency, fisher_exact\n",
    "\n",
    "    contingency_table = pd.crosstab(df[target], df[group])\n",
    "    \n",
    "    chi2, p_val, dof, expected = chi2_contingency(contingency_table)\n",
    "    \n",
    "    if np.all(expected >= threshold):\n",
    "        test_type = \"Chi-Square Test\"\n",
    "    else:\n",
    "        \n",
    "        test_type = \"Fisher's Exact Test\"\n",
    "        _, p_val = fisher_exact(contingency_table)\n",
    "    \n",
    "\n",
    "    \n",
    "    print(\"A/B Testing Hypothesis\")\n",
    "    print(\"H0: A == B \")\n",
    "    print(\"H1: A != B\", \"\\n\")\n",
    "    \n",
    "    sum_table = pd.DataFrame({\n",
    "        \"Test used\": test_type , \n",
    "        \"p-value\":[p_val],\n",
    "        \"A/B Test Conclusion\" : \" \"\n",
    "    })\n",
    "    \n",
    "        \n",
    "    if sum_table[\"p-value\"].loc[0] < 0.05:\n",
    "        sum_table.loc[0, \"A/B Test Conclusion\"] = \"Reject H0.\"\n",
    "        print(\"The observed difference between A and B are statistically significant.\", \"\\n\")    \n",
    "    else:\n",
    "        sum_table.loc[0, \"A/B Test Conclusion\"] = \"Do not reject H0.\"\n",
    "        print(\"The observed difference between A and B are not statistically significant.\", \"\\n\")\n",
    "        \n",
    "    print(\"Contingency Table: \", \"\\n\") \n",
    "    print(contingency_table)    \n",
    "    return sum_table\n"
   ]
  },
  {
   "cell_type": "code",
   "execution_count": 32,
   "id": "bb79aacb",
   "metadata": {},
   "outputs": [
    {
     "name": "stdout",
     "output_type": "stream",
     "text": [
      "A/B Testing Hypothesis\n",
      "H0: A == B \n",
      "H1: A != B \n",
      "\n",
      "The observed difference between A and B are not statistically significant. \n",
      "\n",
      "Contingency Table:  \n",
      "\n",
      "group            A      B\n",
      "retention_1              \n",
      "False        24665  25370\n",
      "True         20034  20119\n"
     ]
    },
    {
     "data": {
      "text/html": [
       "<div>\n",
       "<style scoped>\n",
       "    .dataframe tbody tr th:only-of-type {\n",
       "        vertical-align: middle;\n",
       "    }\n",
       "\n",
       "    .dataframe tbody tr th {\n",
       "        vertical-align: top;\n",
       "    }\n",
       "\n",
       "    .dataframe thead th {\n",
       "        text-align: right;\n",
       "    }\n",
       "</style>\n",
       "<table border=\"1\" class=\"dataframe\">\n",
       "  <thead>\n",
       "    <tr style=\"text-align: right;\">\n",
       "      <th></th>\n",
       "      <th>Test used</th>\n",
       "      <th>p-value</th>\n",
       "      <th>A/B Test Conclusion</th>\n",
       "    </tr>\n",
       "  </thead>\n",
       "  <tbody>\n",
       "    <tr>\n",
       "      <th>0</th>\n",
       "      <td>Chi-Square Test</td>\n",
       "      <td>0.07501</td>\n",
       "      <td>Do not reject H0.</td>\n",
       "    </tr>\n",
       "  </tbody>\n",
       "</table>\n",
       "</div>"
      ],
      "text/plain": [
       "         Test used  p-value A/B Test Conclusion\n",
       "0  Chi-Square Test  0.07501   Do not reject H0."
      ]
     },
     "execution_count": 32,
     "metadata": {},
     "output_type": "execute_result"
    }
   ],
   "source": [
    "AB_test_categorical(df, group = \"group\", target = \"retention_1\", threshold=5, alpha=0.05)"
   ]
  },
  {
   "cell_type": "code",
   "execution_count": 33,
   "id": "82810f27",
   "metadata": {},
   "outputs": [
    {
     "name": "stdout",
     "output_type": "stream",
     "text": [
      "A/B Testing Hypothesis\n",
      "H0: A == B \n",
      "H1: A != B \n",
      "\n",
      "The observed difference between A and B are statistically significant. \n",
      "\n",
      "Contingency Table:  \n",
      "\n",
      "group            A      B\n",
      "retention_7              \n",
      "False        36198  37210\n",
      "True          8501   8279\n"
     ]
    },
    {
     "data": {
      "text/html": [
       "<div>\n",
       "<style scoped>\n",
       "    .dataframe tbody tr th:only-of-type {\n",
       "        vertical-align: middle;\n",
       "    }\n",
       "\n",
       "    .dataframe tbody tr th {\n",
       "        vertical-align: top;\n",
       "    }\n",
       "\n",
       "    .dataframe thead th {\n",
       "        text-align: right;\n",
       "    }\n",
       "</style>\n",
       "<table border=\"1\" class=\"dataframe\">\n",
       "  <thead>\n",
       "    <tr style=\"text-align: right;\">\n",
       "      <th></th>\n",
       "      <th>Test used</th>\n",
       "      <th>p-value</th>\n",
       "      <th>A/B Test Conclusion</th>\n",
       "    </tr>\n",
       "  </thead>\n",
       "  <tbody>\n",
       "    <tr>\n",
       "      <th>0</th>\n",
       "      <td>Chi-Square Test</td>\n",
       "      <td>0.001639</td>\n",
       "      <td>Reject H0.</td>\n",
       "    </tr>\n",
       "  </tbody>\n",
       "</table>\n",
       "</div>"
      ],
      "text/plain": [
       "         Test used   p-value A/B Test Conclusion\n",
       "0  Chi-Square Test  0.001639          Reject H0."
      ]
     },
     "execution_count": 33,
     "metadata": {},
     "output_type": "execute_result"
    }
   ],
   "source": [
    "AB_test_categorical(df, group = \"group\", target = \"retention_7\", threshold=5, alpha=0.05)"
   ]
  },
  {
   "cell_type": "code",
   "execution_count": null,
   "id": "dbc3d039",
   "metadata": {},
   "outputs": [],
   "source": []
  }
 ],
 "metadata": {
  "kernelspec": {
   "display_name": "Python 3 (ipykernel)",
   "language": "python",
   "name": "python3"
  },
  "language_info": {
   "codemirror_mode": {
    "name": "ipython",
    "version": 3
   },
   "file_extension": ".py",
   "mimetype": "text/x-python",
   "name": "python",
   "nbconvert_exporter": "python",
   "pygments_lexer": "ipython3",
   "version": "3.9.13"
  }
 },
 "nbformat": 4,
 "nbformat_minor": 5
}
